{
  "cells": [
    {
      "cell_type": "markdown",
      "id": "80620137",
      "metadata": {
        "id": "80620137"
      },
      "source": [
        "Since the HW grading is done in a semi-automatic manner, please adhere to the following naming format for your submission.\n",
        "Each group of students (mostly pairs, with some approved exceptions) should submit a Zip file, whose name is the underscored-separated id list of all the submitters. For example, for two submitters, the naming format is: id1_id2.zip.\n",
        "The ZIP file should contain:\n",
        "1. Jupyter notebook (.ipynb file and not a .zip file) whose name is the underscored-separated id list of all the submitters. For example, for two submitters, the naming format is: id1_id2.ipynb.\n",
        "2. Python File (map-reduce part, .py file) whose name is the underscored-separated id list of all the submitters. For example, for two submitters, the naming format is: id1_id2.py."
      ]
    },
    {
      "cell_type": "code",
      "execution_count": 9,
      "id": "92f33078",
      "metadata": {
        "colab": {
          "base_uri": "https://localhost:8080/"
        },
        "id": "92f33078",
        "outputId": "1a4f0775-4724-4087-cc6f-d55c2f2d8761"
      },
      "outputs": [
        {
          "output_type": "stream",
          "name": "stdout",
          "text": [
            "Looking in indexes: https://pypi.org/simple, https://us-python.pkg.dev/colab-wheels/public/simple/\n",
            "Collecting pyspark\n",
            "  Downloading pyspark-3.4.1.tar.gz (310.8 MB)\n",
            "\u001b[2K     \u001b[90m━━━━━━━━━━━━━━━━━━━━━━━━━━━━━━━━━━━━━━━\u001b[0m \u001b[32m310.8/310.8 MB\u001b[0m \u001b[31m3.7 MB/s\u001b[0m eta \u001b[36m0:00:00\u001b[0m\n",
            "\u001b[?25h  Preparing metadata (setup.py) ... \u001b[?25l\u001b[?25hdone\n",
            "Requirement already satisfied: py4j==0.10.9.7 in /usr/local/lib/python3.10/dist-packages (from pyspark) (0.10.9.7)\n",
            "Building wheels for collected packages: pyspark\n",
            "  Building wheel for pyspark (setup.py) ... \u001b[?25l\u001b[?25hdone\n",
            "  Created wheel for pyspark: filename=pyspark-3.4.1-py2.py3-none-any.whl size=311285398 sha256=a635ac4cffd93fa57568b3a16f7a7ce11723798bb539c3c6fc568ef7b163976f\n",
            "  Stored in directory: /root/.cache/pip/wheels/0d/77/a3/ff2f74cc9ab41f8f594dabf0579c2a7c6de920d584206e0834\n",
            "Successfully built pyspark\n",
            "Installing collected packages: pyspark\n",
            "Successfully installed pyspark-3.4.1\n"
          ]
        }
      ],
      "source": [
        "# install pyspark library (via pip install)\n",
        "# There is no need to set a local spark server.\n",
        "!pip install pyspark"
      ]
    },
    {
      "cell_type": "code",
      "execution_count": 10,
      "id": "2f5794d5",
      "metadata": {
        "id": "2f5794d5"
      },
      "outputs": [],
      "source": [
        "# run this command to make sure the versions of pyspark and your python match:\n",
        "import os\n",
        "import sys\n",
        "\n",
        "os.environ['PYSPARK_PYTHON'] = sys.executable\n",
        "os.environ['PYSPARK_DRIVER_PYTHON'] = sys.executable"
      ]
    },
    {
      "cell_type": "markdown",
      "id": "e5305d50",
      "metadata": {
        "id": "e5305d50"
      },
      "source": [
        "for each of the tasks bellow, make sure you add a print command at the end of the cell, to show the results (df.show(1))"
      ]
    },
    {
      "cell_type": "markdown",
      "id": "8b2fd9a1",
      "metadata": {
        "id": "8b2fd9a1"
      },
      "source": [
        "# Getting started:"
      ]
    },
    {
      "cell_type": "markdown",
      "id": "f70f7a4c",
      "metadata": {
        "id": "f70f7a4c"
      },
      "source": [
        "start a spark session"
      ]
    },
    {
      "cell_type": "code",
      "execution_count": 11,
      "id": "08ba8b79",
      "metadata": {
        "id": "08ba8b79"
      },
      "outputs": [],
      "source": [
        "from pyspark.sql import SparkSession\n",
        "name = 'spark' #give a name to your app\n",
        "spark = SparkSession.builder.appName('{name}'.format(name=name)).getOrCreate()"
      ]
    },
    {
      "cell_type": "markdown",
      "id": "2e4b11ad",
      "metadata": {
        "id": "2e4b11ad"
      },
      "source": [
        "load the wine dataset:"
      ]
    },
    {
      "cell_type": "code",
      "execution_count": 12,
      "id": "5e8c3470",
      "metadata": {
        "id": "5e8c3470"
      },
      "outputs": [],
      "source": [
        "from sklearn.datasets import load_wine\n",
        "\n",
        "wine = load_wine()\n",
        "data = wine.data\n",
        "columns = list(wine.feature_names)"
      ]
    },
    {
      "cell_type": "markdown",
      "id": "26e7cf2b",
      "metadata": {
        "id": "26e7cf2b"
      },
      "source": [
        "create spark dataframe to contain the data and the columns names as it's schema"
      ]
    },
    {
      "cell_type": "code",
      "execution_count": 13,
      "metadata": {
        "outputId": "f5e93c1a-90b8-4381-9bcd-9fd7725c7311",
        "colab": {
          "base_uri": "https://localhost:8080/"
        },
        "id": "OFz519vBkr91"
      },
      "outputs": [
        {
          "output_type": "stream",
          "name": "stdout",
          "text": [
            "+-------+----------+----+-----------------+---------+-------------+----------+--------------------+---------------+---------------+----+----------------------------+-------+\n",
            "|alcohol|malic_acid| ash|alcalinity_of_ash|magnesium|total_phenols|flavanoids|nonflavanoid_phenols|proanthocyanins|color_intensity| hue|od280/od315_of_diluted_wines|proline|\n",
            "+-------+----------+----+-----------------+---------+-------------+----------+--------------------+---------------+---------------+----+----------------------------+-------+\n",
            "|  14.23|      1.71|2.43|             15.6|    127.0|          2.8|      3.06|                0.28|           2.29|           5.64|1.04|                        3.92| 1065.0|\n",
            "|   13.2|      1.78|2.14|             11.2|    100.0|         2.65|      2.76|                0.26|           1.28|           4.38|1.05|                         3.4| 1050.0|\n",
            "|  13.16|      2.36|2.67|             18.6|    101.0|          2.8|      3.24|                 0.3|           2.81|           5.68|1.03|                        3.17| 1185.0|\n",
            "|  14.37|      1.95| 2.5|             16.8|    113.0|         3.85|      3.49|                0.24|           2.18|            7.8|0.86|                        3.45| 1480.0|\n",
            "|  13.24|      2.59|2.87|             21.0|    118.0|          2.8|      2.69|                0.39|           1.82|           4.32|1.04|                        2.93|  735.0|\n",
            "|   14.2|      1.76|2.45|             15.2|    112.0|         3.27|      3.39|                0.34|           1.97|           6.75|1.05|                        2.85| 1450.0|\n",
            "|  14.39|      1.87|2.45|             14.6|     96.0|          2.5|      2.52|                 0.3|           1.98|           5.25|1.02|                        3.58| 1290.0|\n",
            "|  14.06|      2.15|2.61|             17.6|    121.0|          2.6|      2.51|                0.31|           1.25|           5.05|1.06|                        3.58| 1295.0|\n",
            "|  14.83|      1.64|2.17|             14.0|     97.0|          2.8|      2.98|                0.29|           1.98|            5.2|1.08|                        2.85| 1045.0|\n",
            "|  13.86|      1.35|2.27|             16.0|     98.0|         2.98|      3.15|                0.22|           1.85|           7.22|1.01|                        3.55| 1045.0|\n",
            "|   14.1|      2.16| 2.3|             18.0|    105.0|         2.95|      3.32|                0.22|           2.38|           5.75|1.25|                        3.17| 1510.0|\n",
            "|  14.12|      1.48|2.32|             16.8|     95.0|          2.2|      2.43|                0.26|           1.57|            5.0|1.17|                        2.82| 1280.0|\n",
            "|  13.75|      1.73|2.41|             16.0|     89.0|          2.6|      2.76|                0.29|           1.81|            5.6|1.15|                         2.9| 1320.0|\n",
            "|  14.75|      1.73|2.39|             11.4|     91.0|          3.1|      3.69|                0.43|           2.81|            5.4|1.25|                        2.73| 1150.0|\n",
            "|  14.38|      1.87|2.38|             12.0|    102.0|          3.3|      3.64|                0.29|           2.96|            7.5| 1.2|                         3.0| 1547.0|\n",
            "|  13.63|      1.81| 2.7|             17.2|    112.0|         2.85|      2.91|                 0.3|           1.46|            7.3|1.28|                        2.88| 1310.0|\n",
            "|   14.3|      1.92|2.72|             20.0|    120.0|          2.8|      3.14|                0.33|           1.97|            6.2|1.07|                        2.65| 1280.0|\n",
            "|  13.83|      1.57|2.62|             20.0|    115.0|         2.95|       3.4|                 0.4|           1.72|            6.6|1.13|                        2.57| 1130.0|\n",
            "|  14.19|      1.59|2.48|             16.5|    108.0|          3.3|      3.93|                0.32|           1.86|            8.7|1.23|                        2.82| 1680.0|\n",
            "|  13.64|       3.1|2.56|             15.2|    116.0|          2.7|      3.03|                0.17|           1.66|            5.1|0.96|                        3.36|  845.0|\n",
            "+-------+----------+----+-----------------+---------+-------------+----------+--------------------+---------------+---------------+----+----------------------------+-------+\n",
            "only showing top 20 rows\n",
            "\n"
          ]
        }
      ],
      "source": [
        "import pandas as pd\n",
        "from pyspark.sql import SparkSession\n",
        "pandasDF = pd.DataFrame(data, columns=columns)\n",
        "sparkDF=spark.createDataFrame(pandasDF)\n",
        "sparkDF.show()"
      ],
      "id": "OFz519vBkr91"
    },
    {
      "cell_type": "markdown",
      "id": "43909afc",
      "metadata": {
        "id": "43909afc"
      },
      "source": [
        "preform 3 initial data exploration tasks that will help you understand your data better"
      ]
    },
    {
      "cell_type": "code",
      "execution_count": 14,
      "id": "403479cd",
      "metadata": {
        "colab": {
          "base_uri": "https://localhost:8080/"
        },
        "id": "403479cd",
        "outputId": "a044bf08-c525-4fcb-cca3-4701be400d67"
      },
      "outputs": [
        {
          "output_type": "stream",
          "name": "stdout",
          "text": [
            "root\n",
            " |-- alcohol: double (nullable = true)\n",
            " |-- malic_acid: double (nullable = true)\n",
            " |-- ash: double (nullable = true)\n",
            " |-- alcalinity_of_ash: double (nullable = true)\n",
            " |-- magnesium: double (nullable = true)\n",
            " |-- total_phenols: double (nullable = true)\n",
            " |-- flavanoids: double (nullable = true)\n",
            " |-- nonflavanoid_phenols: double (nullable = true)\n",
            " |-- proanthocyanins: double (nullable = true)\n",
            " |-- color_intensity: double (nullable = true)\n",
            " |-- hue: double (nullable = true)\n",
            " |-- od280/od315_of_diluted_wines: double (nullable = true)\n",
            " |-- proline: double (nullable = true)\n",
            "\n"
          ]
        }
      ],
      "source": [
        "sparkDF.printSchema()"
      ]
    },
    {
      "cell_type": "code",
      "execution_count": 15,
      "id": "67326eb4",
      "metadata": {
        "colab": {
          "base_uri": "https://localhost:8080/"
        },
        "id": "67326eb4",
        "outputId": "4f13fa50-c1b1-4e22-eee2-d5e1777e8d34"
      },
      "outputs": [
        {
          "output_type": "stream",
          "name": "stdout",
          "text": [
            "+-------+------------------+------------------+------------------+------------------+-----------------+------------------+------------------+--------------------+------------------+------------------+-------------------+----------------------------+------------------+\n",
            "|summary|           alcohol|        malic_acid|               ash| alcalinity_of_ash|        magnesium|     total_phenols|        flavanoids|nonflavanoid_phenols|   proanthocyanins|   color_intensity|                hue|od280/od315_of_diluted_wines|           proline|\n",
            "+-------+------------------+------------------+------------------+------------------+-----------------+------------------+------------------+--------------------+------------------+------------------+-------------------+----------------------------+------------------+\n",
            "|  count|               178|               178|               178|               178|              178|               178|               178|                 178|               178|               178|                178|                         178|               178|\n",
            "|   mean|13.000617977528092|2.3363483146067408|2.3665168539325845|19.494943820224716|99.74157303370787| 2.295112359550562|2.0292696629213487|  0.3618539325842696|1.5908988764044945| 5.058089882022472| 0.9574494382022471|          2.6116853932584276| 746.8932584269663|\n",
            "| stddev|0.8118265380058592|1.1171460976144625|0.2743440090608147| 3.339563767173507|14.28248351529566|0.6258510488339889|0.9988586850169472|  0.1244533402966794|0.5723588626747611|2.3182858718224124|0.22857156582982352|          0.7099904287650503|314.90747427684926|\n",
            "|    min|             11.03|              0.74|              1.36|              10.6|             70.0|              0.98|              0.34|                0.13|              0.41|              1.28|               0.48|                        1.27|             278.0|\n",
            "|    max|             14.83|               5.8|              3.23|              30.0|            162.0|              3.88|              5.08|                0.66|              3.58|              13.0|               1.71|                         4.0|            1680.0|\n",
            "+-------+------------------+------------------+------------------+------------------+-----------------+------------------+------------------+--------------------+------------------+------------------+-------------------+----------------------------+------------------+\n",
            "\n"
          ]
        }
      ],
      "source": [
        "sparkDF.describe().show()\n"
      ]
    },
    {
      "cell_type": "code",
      "execution_count": 16,
      "id": "ec133e0d",
      "metadata": {
        "colab": {
          "base_uri": "https://localhost:8080/"
        },
        "id": "ec133e0d",
        "outputId": "8cd67411-b8c8-4699-e5ae-1ba6b62567bf"
      },
      "outputs": [
        {
          "output_type": "stream",
          "name": "stdout",
          "text": [
            "+--------------------+-------------------+\n",
            "|   skewness(alcohol)|  kurtosis(alcohol)|\n",
            "+--------------------+-------------------+\n",
            "|-0.05104747165391...|-0.8622600987701761|\n",
            "+--------------------+-------------------+\n",
            "\n",
            "+--------------------+--------------------+\n",
            "|skewness(malic_acid)|kurtosis(malic_acid)|\n",
            "+--------------------+--------------------+\n",
            "|   1.030869497803997|  0.2573482858330962|\n",
            "+--------------------+--------------------+\n",
            "\n",
            "+-------------------+------------------+\n",
            "|      skewness(ash)|     kurtosis(ash)|\n",
            "+-------------------+------------------+\n",
            "|-0.1752067779255986|1.0785761323125556|\n",
            "+-------------------+------------------+\n",
            "\n",
            "+---------------------------+---------------------------+\n",
            "|skewness(alcalinity_of_ash)|kurtosis(alcalinity_of_ash)|\n",
            "+---------------------------+---------------------------+\n",
            "|        0.21124732832155163|         0.4408231369002831|\n",
            "+---------------------------+---------------------------+\n",
            "\n",
            "+-------------------+-------------------+\n",
            "|skewness(magnesium)|kurtosis(magnesium)|\n",
            "+-------------------+-------------------+\n",
            "| 1.0889148872107024| 2.0128060084773916|\n",
            "+-------------------+-------------------+\n",
            "\n",
            "+-----------------------+-----------------------+\n",
            "|skewness(total_phenols)|kurtosis(total_phenols)|\n",
            "+-----------------------+-----------------------+\n",
            "|     0.0859067701671953|    -0.8458573026752276|\n",
            "+-----------------------+-----------------------+\n",
            "\n",
            "+--------------------+--------------------+\n",
            "|skewness(flavanoids)|kurtosis(flavanoids)|\n",
            "+--------------------+--------------------+\n",
            "|0.025129482208429456| -0.8893650113675191|\n",
            "+--------------------+--------------------+\n",
            "\n",
            "+------------------------------+------------------------------+\n",
            "|skewness(nonflavanoid_phenols)|kurtosis(nonflavanoid_phenols)|\n",
            "+------------------------------+------------------------------+\n",
            "|           0.44634901064702126|             -0.65295220703804|\n",
            "+------------------------------+------------------------------+\n",
            "\n",
            "+-------------------------+-------------------------+\n",
            "|skewness(proanthocyanins)|kurtosis(proanthocyanins)|\n",
            "+-------------------------+-------------------------+\n",
            "|        0.512769033410994|       0.5056710064108341|\n",
            "+-------------------------+-------------------------+\n",
            "\n",
            "+-------------------------+-------------------------+\n",
            "|skewness(color_intensity)|kurtosis(color_intensity)|\n",
            "+-------------------------+-------------------------+\n",
            "|        0.861248054774055|      0.33736975669801605|\n",
            "+-------------------------+-------------------------+\n",
            "\n",
            "+-------------------+-------------------+\n",
            "|      skewness(hue)|      kurtosis(hue)|\n",
            "+-------------------+-------------------+\n",
            "|0.02091311906888095|-0.3680254027059804|\n",
            "+-------------------+-------------------+\n",
            "\n",
            "+--------------------------------------+--------------------------------------+\n",
            "|skewness(od280/od315_of_diluted_wines)|kurtosis(od280/od315_of_diluted_wines)|\n",
            "+--------------------------------------+--------------------------------------+\n",
            "|                   -0.3046899289436109|                   -1.0896753288585033|\n",
            "+--------------------------------------+--------------------------------------+\n",
            "\n",
            "+------------------+-------------------+\n",
            "| skewness(proline)|  kurtosis(proline)|\n",
            "+------------------+-------------------+\n",
            "|0.7613361671993634|-0.2749997054982445|\n",
            "+------------------+-------------------+\n",
            "\n"
          ]
        }
      ],
      "source": [
        "from pyspark.sql.functions import col, skewness, kurtosis\n",
        "for col in columns:\n",
        "    sparkDF.select(skewness(col),kurtosis(col)).show()"
      ]
    },
    {
      "cell_type": "markdown",
      "id": "6c49e372",
      "metadata": {
        "id": "6c49e372"
      },
      "source": [
        "# Data preparation tasks:"
      ]
    },
    {
      "cell_type": "markdown",
      "id": "873d9add",
      "metadata": {
        "id": "873d9add"
      },
      "source": [
        "preform the following data cleaning task:"
      ]
    },
    {
      "cell_type": "markdown",
      "id": "9598366d",
      "metadata": {
        "id": "9598366d"
      },
      "source": [
        "    1. rename the column \"Alcohol\" to \"ABV\"\n"
      ]
    },
    {
      "cell_type": "code",
      "execution_count": 17,
      "id": "417faa6e",
      "metadata": {
        "colab": {
          "base_uri": "https://localhost:8080/"
        },
        "id": "417faa6e",
        "outputId": "8723f598-ce18-4c54-d072-6c238530beed"
      },
      "outputs": [
        {
          "output_type": "stream",
          "name": "stdout",
          "text": [
            "root\n",
            " |-- ABV: double (nullable = true)\n",
            " |-- malic_acid: double (nullable = true)\n",
            " |-- ash: double (nullable = true)\n",
            " |-- alcalinity_of_ash: double (nullable = true)\n",
            " |-- magnesium: double (nullable = true)\n",
            " |-- total_phenols: double (nullable = true)\n",
            " |-- flavanoids: double (nullable = true)\n",
            " |-- nonflavanoid_phenols: double (nullable = true)\n",
            " |-- proanthocyanins: double (nullable = true)\n",
            " |-- color_intensity: double (nullable = true)\n",
            " |-- hue: double (nullable = true)\n",
            " |-- od280/od315_of_diluted_wines: double (nullable = true)\n",
            " |-- proline: double (nullable = true)\n",
            "\n"
          ]
        }
      ],
      "source": [
        "sparkDF=sparkDF.withColumnRenamed(\"alcohol\",\"ABV\")\n",
        "sparkDF.printSchema()"
      ]
    },
    {
      "cell_type": "markdown",
      "id": "b391ccf3",
      "metadata": {
        "id": "b391ccf3"
      },
      "source": [
        "    2. create a new column that will we be the standardization of column \"magnesium\". call it \"magnesium_stand\""
      ]
    },
    {
      "cell_type": "code",
      "execution_count": 18,
      "id": "aa0d1782",
      "metadata": {
        "colab": {
          "base_uri": "https://localhost:8080/"
        },
        "id": "aa0d1782",
        "outputId": "c7688bfe-f1ba-46a3-fb27-6f7b9500f977"
      },
      "outputs": [
        {
          "output_type": "stream",
          "name": "stdout",
          "text": [
            "+-----+----------+----+-----------------+---------+-------------+----------+--------------------+---------------+---------------+----+----------------------------+-------+--------------------+\n",
            "|  ABV|malic_acid| ash|alcalinity_of_ash|magnesium|total_phenols|flavanoids|nonflavanoid_phenols|proanthocyanins|color_intensity| hue|od280/od315_of_diluted_wines|proline|     magnesium_stand|\n",
            "+-----+----------+----+-----------------+---------+-------------+----------+--------------------+---------------+---------------+----+----------------------------+-------+--------------------+\n",
            "|14.23|      1.71|2.43|             15.6|    127.0|          2.8|      3.06|                0.28|           2.29|           5.64|1.04|                        3.92| 1065.0|  1.9085215072784814|\n",
            "| 13.2|      1.78|2.14|             11.2|    100.0|         2.65|      2.76|                0.26|           1.28|           4.38|1.05|                         3.4| 1050.0|  0.0180939796650474|\n",
            "|13.16|      2.36|2.67|             18.6|    101.0|          2.8|      3.24|                 0.3|           2.81|           5.68|1.03|                        3.17| 1185.0|  0.0881098140211005|\n",
            "|14.37|      1.95| 2.5|             16.8|    113.0|         3.85|      3.49|                0.24|           2.18|            7.8|0.86|                        3.45| 1480.0|  0.9282998262937378|\n",
            "|13.24|      2.59|2.87|             21.0|    118.0|          2.8|      2.69|                0.39|           1.82|           4.32|1.04|                        2.93|  735.0|  1.2783789980740032|\n",
            "| 14.2|      1.76|2.45|             15.2|    112.0|         3.27|      3.39|                0.34|           1.97|           6.75|1.05|                        2.85| 1450.0|  0.8582839919376847|\n",
            "|14.39|      1.87|2.45|             14.6|     96.0|          2.5|      2.52|                 0.3|           1.98|           5.25|1.02|                        3.58| 1290.0|  -0.261969357759165|\n",
            "|14.06|      2.15|2.61|             17.6|    121.0|          2.6|      2.51|                0.31|           1.25|           5.05|1.06|                        3.58| 1295.0|  1.4884265011421627|\n",
            "|14.83|      1.64|2.17|             14.0|     97.0|          2.8|      2.98|                0.29|           1.98|            5.2|1.08|                        2.85| 1045.0|-0.19195352340311192|\n",
            "|13.86|      1.35|2.27|             16.0|     98.0|         2.98|      3.15|                0.22|           1.85|           7.22|1.01|                        3.55| 1045.0|-0.12193768904705882|\n",
            "| 14.1|      2.16| 2.3|             18.0|    105.0|         2.95|      3.32|                0.22|           2.38|           5.75|1.25|                        3.17| 1510.0| 0.36817315144531293|\n",
            "|14.12|      1.48|2.32|             16.8|     95.0|          2.2|      2.43|                0.26|           1.57|            5.0|1.17|                        2.82| 1280.0|-0.33198519211521815|\n",
            "|13.75|      1.73|2.41|             16.0|     89.0|          2.6|      2.76|                0.29|           1.81|            5.6|1.15|                         2.9| 1320.0| -0.7520801982515368|\n",
            "|14.75|      1.73|2.39|             11.4|     91.0|          3.1|      3.69|                0.43|           2.81|            5.4|1.25|                        2.73| 1150.0| -0.6120485295394306|\n",
            "|14.38|      1.87|2.38|             12.0|    102.0|          3.3|      3.64|                0.29|           2.96|            7.5| 1.2|                         3.0| 1547.0| 0.15812564837715362|\n",
            "|13.63|      1.81| 2.7|             17.2|    112.0|         2.85|      2.91|                 0.3|           1.46|            7.3|1.28|                        2.88| 1310.0|  0.8582839919376847|\n",
            "| 14.3|      1.92|2.72|             20.0|    120.0|          2.8|      3.14|                0.33|           1.97|            6.2|1.07|                        2.65| 1280.0|  1.4184106667861096|\n",
            "|13.83|      1.57|2.62|             20.0|    115.0|         2.95|       3.4|                 0.4|           1.72|            6.6|1.13|                        2.57| 1130.0|   1.068331495005844|\n",
            "|14.19|      1.59|2.48|             16.5|    108.0|          3.3|      3.93|                0.32|           1.86|            8.7|1.23|                        2.82| 1680.0|  0.5782206545134723|\n",
            "|13.64|       3.1|2.56|             15.2|    116.0|          2.7|      3.03|                0.17|           1.66|            5.1|0.96|                        3.36|  845.0|   1.138347329361897|\n",
            "+-----+----------+----+-----------------+---------+-------------+----------+--------------------+---------------+---------------+----+----------------------------+-------+--------------------+\n",
            "only showing top 20 rows\n",
            "\n"
          ]
        }
      ],
      "source": [
        "from pyspark.sql.functions import mean as _mean, stddev as _stddev, col\n",
        "\n",
        "df_stats = sparkDF.select(\n",
        "    _mean(col('magnesium')).alias('mean'),\n",
        "    _stddev(col('magnesium')).alias('std')\n",
        ").collect()\n",
        "\n",
        "mean = df_stats[0]['mean']\n",
        "std = df_stats[0]['std']\n",
        "sparkDF = sparkDF.withColumn(\"magnesium_stand\",((col(\"magnesium\")-mean)/std))\n",
        "sparkDF.show()\n"
      ]
    },
    {
      "cell_type": "markdown",
      "id": "8bac4aee",
      "metadata": {
        "id": "8bac4aee"
      },
      "source": [
        "    3. create a new column that will be valued 1 (and 0 otherwise) if the alcohol rate exceeds 14 (including) and color_intensity exceeds 6. call it \"col_intense\"."
      ]
    },
    {
      "cell_type": "code",
      "execution_count": 19,
      "id": "d1152f1c",
      "metadata": {
        "colab": {
          "base_uri": "https://localhost:8080/"
        },
        "id": "d1152f1c",
        "outputId": "d9619a2d-2dbf-43fc-af46-234e6e7b4580"
      },
      "outputs": [
        {
          "output_type": "stream",
          "name": "stdout",
          "text": [
            "+-----+----------+----+-----------------+---------+-------------+----------+--------------------+---------------+---------------+----+----------------------------+-------+--------------------+-----------+\n",
            "|  ABV|malic_acid| ash|alcalinity_of_ash|magnesium|total_phenols|flavanoids|nonflavanoid_phenols|proanthocyanins|color_intensity| hue|od280/od315_of_diluted_wines|proline|     magnesium_stand|col_intense|\n",
            "+-----+----------+----+-----------------+---------+-------------+----------+--------------------+---------------+---------------+----+----------------------------+-------+--------------------+-----------+\n",
            "|14.23|      1.71|2.43|             15.6|    127.0|          2.8|      3.06|                0.28|           2.29|           5.64|1.04|                        3.92| 1065.0|  1.9085215072784814|          0|\n",
            "| 13.2|      1.78|2.14|             11.2|    100.0|         2.65|      2.76|                0.26|           1.28|           4.38|1.05|                         3.4| 1050.0|  0.0180939796650474|          0|\n",
            "|13.16|      2.36|2.67|             18.6|    101.0|          2.8|      3.24|                 0.3|           2.81|           5.68|1.03|                        3.17| 1185.0|  0.0881098140211005|          0|\n",
            "|14.37|      1.95| 2.5|             16.8|    113.0|         3.85|      3.49|                0.24|           2.18|            7.8|0.86|                        3.45| 1480.0|  0.9282998262937378|          1|\n",
            "|13.24|      2.59|2.87|             21.0|    118.0|          2.8|      2.69|                0.39|           1.82|           4.32|1.04|                        2.93|  735.0|  1.2783789980740032|          0|\n",
            "| 14.2|      1.76|2.45|             15.2|    112.0|         3.27|      3.39|                0.34|           1.97|           6.75|1.05|                        2.85| 1450.0|  0.8582839919376847|          1|\n",
            "|14.39|      1.87|2.45|             14.6|     96.0|          2.5|      2.52|                 0.3|           1.98|           5.25|1.02|                        3.58| 1290.0|  -0.261969357759165|          0|\n",
            "|14.06|      2.15|2.61|             17.6|    121.0|          2.6|      2.51|                0.31|           1.25|           5.05|1.06|                        3.58| 1295.0|  1.4884265011421627|          0|\n",
            "|14.83|      1.64|2.17|             14.0|     97.0|          2.8|      2.98|                0.29|           1.98|            5.2|1.08|                        2.85| 1045.0|-0.19195352340311192|          0|\n",
            "|13.86|      1.35|2.27|             16.0|     98.0|         2.98|      3.15|                0.22|           1.85|           7.22|1.01|                        3.55| 1045.0|-0.12193768904705882|          0|\n",
            "| 14.1|      2.16| 2.3|             18.0|    105.0|         2.95|      3.32|                0.22|           2.38|           5.75|1.25|                        3.17| 1510.0| 0.36817315144531293|          0|\n",
            "|14.12|      1.48|2.32|             16.8|     95.0|          2.2|      2.43|                0.26|           1.57|            5.0|1.17|                        2.82| 1280.0|-0.33198519211521815|          0|\n",
            "|13.75|      1.73|2.41|             16.0|     89.0|          2.6|      2.76|                0.29|           1.81|            5.6|1.15|                         2.9| 1320.0| -0.7520801982515368|          0|\n",
            "|14.75|      1.73|2.39|             11.4|     91.0|          3.1|      3.69|                0.43|           2.81|            5.4|1.25|                        2.73| 1150.0| -0.6120485295394306|          0|\n",
            "|14.38|      1.87|2.38|             12.0|    102.0|          3.3|      3.64|                0.29|           2.96|            7.5| 1.2|                         3.0| 1547.0| 0.15812564837715362|          1|\n",
            "|13.63|      1.81| 2.7|             17.2|    112.0|         2.85|      2.91|                 0.3|           1.46|            7.3|1.28|                        2.88| 1310.0|  0.8582839919376847|          0|\n",
            "| 14.3|      1.92|2.72|             20.0|    120.0|          2.8|      3.14|                0.33|           1.97|            6.2|1.07|                        2.65| 1280.0|  1.4184106667861096|          1|\n",
            "|13.83|      1.57|2.62|             20.0|    115.0|         2.95|       3.4|                 0.4|           1.72|            6.6|1.13|                        2.57| 1130.0|   1.068331495005844|          0|\n",
            "|14.19|      1.59|2.48|             16.5|    108.0|          3.3|      3.93|                0.32|           1.86|            8.7|1.23|                        2.82| 1680.0|  0.5782206545134723|          1|\n",
            "|13.64|       3.1|2.56|             15.2|    116.0|          2.7|      3.03|                0.17|           1.66|            5.1|0.96|                        3.36|  845.0|   1.138347329361897|          0|\n",
            "+-----+----------+----+-----------------+---------+-------------+----------+--------------------+---------------+---------------+----+----------------------------+-------+--------------------+-----------+\n",
            "only showing top 20 rows\n",
            "\n"
          ]
        }
      ],
      "source": [
        "from pyspark.sql.functions import when,lit\n",
        "sparkDF=sparkDF.withColumn(\"col_intense\", \\\n",
        "   when((sparkDF.ABV > 14) &(sparkDF.color_intensity > 6), lit(1)) \\\n",
        "     .otherwise(lit(0)))\n",
        "sparkDF.show()"
      ]
    },
    {
      "cell_type": "markdown",
      "id": "0dca2558",
      "metadata": {
        "id": "0dca2558"
      },
      "source": [
        "We will load the labels of the data above:"
      ]
    },
    {
      "cell_type": "code",
      "execution_count": 20,
      "id": "8382ea19",
      "metadata": {
        "id": "8382ea19"
      },
      "outputs": [],
      "source": [
        "target = wine.target\n",
        "column = ['Class']"
      ]
    },
    {
      "cell_type": "markdown",
      "id": "a9c0500b",
      "metadata": {
        "id": "a9c0500b"
      },
      "source": [
        "create spark dataframe to contain the data and the columns of the target"
      ]
    },
    {
      "cell_type": "code",
      "execution_count": 21,
      "id": "5819594c",
      "metadata": {
        "colab": {
          "base_uri": "https://localhost:8080/"
        },
        "id": "5819594c",
        "outputId": "2cae1959-61de-4e58-984d-6c75f9dc7924"
      },
      "outputs": [
        {
          "output_type": "stream",
          "name": "stdout",
          "text": [
            "+-----+\n",
            "|Class|\n",
            "+-----+\n",
            "|    0|\n",
            "|    0|\n",
            "|    0|\n",
            "|    0|\n",
            "|    0|\n",
            "|    0|\n",
            "|    0|\n",
            "|    0|\n",
            "|    0|\n",
            "|    0|\n",
            "|    0|\n",
            "|    0|\n",
            "|    0|\n",
            "|    0|\n",
            "|    0|\n",
            "|    0|\n",
            "|    0|\n",
            "|    0|\n",
            "|    0|\n",
            "|    0|\n",
            "+-----+\n",
            "only showing top 20 rows\n",
            "\n"
          ]
        }
      ],
      "source": [
        "import pandas as pd\n",
        "from pyspark.sql import SparkSession\n",
        "pandasnewDF = pd.DataFrame(target, columns=column)\n",
        "sparknewDF=spark.createDataFrame(pandasnewDF)\n",
        "sparknewDF.show()"
      ]
    },
    {
      "cell_type": "markdown",
      "id": "4ac60a12",
      "metadata": {
        "id": "4ac60a12"
      },
      "source": [
        "merge the two datasets to one dataset"
      ]
    },
    {
      "cell_type": "code",
      "execution_count": 22,
      "id": "74d1bb4a",
      "metadata": {
        "colab": {
          "base_uri": "https://localhost:8080/"
        },
        "id": "74d1bb4a",
        "outputId": "bd7d536c-f0cb-42e9-f2a8-3f1f1e53930f"
      },
      "outputs": [
        {
          "output_type": "stream",
          "name": "stdout",
          "text": [
            "+-----+----------+----+-----------------+---------+-------------+----------+--------------------+---------------+---------------+----+----------------------------+-------+--------------------+-----------+-----+\n",
            "|  ABV|malic_acid| ash|alcalinity_of_ash|magnesium|total_phenols|flavanoids|nonflavanoid_phenols|proanthocyanins|color_intensity| hue|od280/od315_of_diluted_wines|proline|     magnesium_stand|col_intense|Class|\n",
            "+-----+----------+----+-----------------+---------+-------------+----------+--------------------+---------------+---------------+----+----------------------------+-------+--------------------+-----------+-----+\n",
            "|13.39|      1.77|2.62|             16.1|     93.0|         2.85|      2.94|                0.34|           1.45|            4.8|0.92|                        3.22| 1195.0|-0.47201686082732436|          0|    0|\n",
            "|14.02|      1.68|2.21|             16.0|     96.0|         2.65|      2.33|                0.26|           1.98|            4.7|1.04|                        3.59| 1035.0|  -0.261969357759165|          0|    0|\n",
            "|12.37|      1.21|2.56|             18.1|     98.0|         2.42|      2.65|                0.37|           2.08|            4.6|1.19|                         2.3|  678.0|-0.12193768904705882|          0|    1|\n",
            "|13.64|       3.1|2.56|             15.2|    116.0|          2.7|      3.03|                0.17|           1.66|            5.1|0.96|                        3.36|  845.0|   1.138347329361897|          0|    0|\n",
            "|13.74|      1.67|2.25|             16.4|    118.0|          2.6|       2.9|                0.21|           1.62|           5.85|0.92|                         3.2| 1060.0|  1.2783789980740032|          0|    0|\n",
            "|14.23|      1.71|2.43|             15.6|    127.0|          2.8|      3.06|                0.28|           2.29|           5.64|1.04|                        3.92| 1065.0|  1.9085215072784814|          0|    0|\n",
            "|13.71|      1.86|2.36|             16.6|    101.0|         2.61|      2.88|                0.27|           1.69|            3.8|1.11|                         4.0| 1035.0|  0.0881098140211005|          0|    0|\n",
            "|14.06|      2.15|2.61|             17.6|    121.0|          2.6|      2.51|                0.31|           1.25|           5.05|1.06|                        3.58| 1295.0|  1.4884265011421627|          0|    0|\n",
            "|11.84|      2.89|2.23|             18.0|    112.0|         1.72|      1.32|                0.43|           0.95|           2.65|0.96|                        2.52|  500.0|  0.8582839919376847|          0|    1|\n",
            "|13.51|       1.8|2.65|             19.0|    110.0|         2.35|      2.53|                0.29|           1.54|            4.2| 1.1|                        2.87| 1095.0|  0.7182523232255785|          0|    0|\n",
            "|13.05|      1.73|2.04|             12.4|     92.0|         2.72|      3.27|                0.17|           2.91|            7.2|1.12|                        2.91| 1150.0| -0.5420326951833775|          0|    0|\n",
            "|13.29|      1.97|2.68|             16.8|    102.0|          3.0|      3.23|                0.31|           1.66|            6.0|1.07|                        2.84| 1270.0| 0.15812564837715362|          0|    0|\n",
            "|13.68|      1.83|2.36|             17.2|    104.0|         2.42|      2.69|                0.42|           1.97|           3.84|1.23|                        2.87|  990.0| 0.29815731708925985|          0|    0|\n",
            "|13.24|      3.98|2.29|             17.5|    103.0|         2.64|      2.63|                0.32|           1.66|           4.36|0.82|                         3.0|  680.0| 0.22814148273320672|          0|    0|\n",
            "|11.84|      0.89|2.58|             18.0|     94.0|          2.2|      2.21|                0.22|           2.35|           3.05|0.79|                        3.08|  520.0|-0.40200102647127123|          0|    1|\n",
            "|13.58|      1.66|2.36|             19.1|    106.0|         2.86|      3.19|                0.22|           1.95|            6.9|1.09|                        2.88| 1515.0| 0.43818898580136606|          0|    0|\n",
            "|14.22|      3.99|2.51|             13.2|    128.0|          3.0|      3.04|                 0.2|           2.08|            5.1|0.89|                        3.53|  760.0|  1.9785373416345344|          0|    0|\n",
            "|13.05|      2.05|3.22|             25.0|    124.0|         2.63|      2.68|                0.47|           1.92|           3.58|1.13|                         3.2|  830.0|   1.698474004210322|          0|    0|\n",
            "|13.86|      1.51|2.67|             25.0|     86.0|         2.95|      2.86|                0.21|           1.87|           3.38|1.36|                        3.16|  410.0| -0.9621277013196962|          0|    1|\n",
            "|14.39|      1.87|2.45|             14.6|     96.0|          2.5|      2.52|                 0.3|           1.98|           5.25|1.02|                        3.58| 1290.0|  -0.261969357759165|          0|    0|\n",
            "+-----+----------+----+-----------------+---------+-------------+----------+--------------------+---------------+---------------+----+----------------------------+-------+--------------------+-----------+-----+\n",
            "only showing top 20 rows\n",
            "\n"
          ]
        }
      ],
      "source": [
        "from pyspark.sql.functions import monotonically_increasing_id as mi\n",
        "monotonicallyIncreasingId=mi()\n",
        "sparkDF=sparkDF.withColumn(\"id1\",monotonicallyIncreasingId)\n",
        "sparknewDF=sparknewDF.withColumn(\"id2\",monotonicallyIncreasingId)\n",
        "merged_df=sparkDF.join(sparknewDF,col(\"id1\")==col(\"id2\"),\"inner\").drop(\"id1\",\"id2\")\n",
        "merged_df.show()"
      ]
    },
    {
      "cell_type": "markdown",
      "id": "8e214727",
      "metadata": {
        "id": "8e214727"
      },
      "source": [
        "# Explore your data and labels:"
      ]
    },
    {
      "cell_type": "markdown",
      "id": "0ca5679c",
      "metadata": {
        "id": "0ca5679c"
      },
      "source": [
        "preform exploration tasks to find the answer to each question below:"
      ]
    },
    {
      "cell_type": "markdown",
      "id": "12207236",
      "metadata": {
        "id": "12207236"
      },
      "source": [
        "1. how many samples do you have for each class"
      ]
    },
    {
      "cell_type": "code",
      "execution_count": 23,
      "id": "c9870207",
      "metadata": {
        "colab": {
          "base_uri": "https://localhost:8080/"
        },
        "id": "c9870207",
        "outputId": "5cf565e9-4448-4092-bdc9-0a0a941a9ff2"
      },
      "outputs": [
        {
          "output_type": "stream",
          "name": "stdout",
          "text": [
            "+-----+-----+\n",
            "|Class|count|\n",
            "+-----+-----+\n",
            "|    0|   59|\n",
            "|    1|   71|\n",
            "|    2|   48|\n",
            "+-----+-----+\n",
            "\n"
          ]
        }
      ],
      "source": [
        "merged_df.groupby(\"Class\").count().show()"
      ]
    },
    {
      "cell_type": "markdown",
      "id": "61fc9749",
      "metadata": {
        "id": "61fc9749"
      },
      "source": [
        "2. which class has the highest alcohol value? which class has highest alcohol values on average?  "
      ]
    },
    {
      "cell_type": "code",
      "execution_count": 25,
      "id": "cbc23e1a",
      "metadata": {
        "colab": {
          "base_uri": "https://localhost:8080/"
        },
        "id": "cbc23e1a",
        "outputId": "6042280b-630d-4c4d-b6a9-d8f2d4608087"
      },
      "outputs": [
        {
          "output_type": "stream",
          "name": "stdout",
          "text": [
            "+-----+--------+\n",
            "|Class|max(ABV)|\n",
            "+-----+--------+\n",
            "|    0|   14.83|\n",
            "|    1|   13.86|\n",
            "|    2|   14.34|\n",
            "+-----+--------+\n",
            "\n",
            "+-----+------------------+\n",
            "|Class|          avg(ABV)|\n",
            "+-----+------------------+\n",
            "|    0|13.744745762711863|\n",
            "|    1|12.278732394366202|\n",
            "|    2|13.153750000000002|\n",
            "+-----+------------------+\n",
            "\n",
            "0 is the highest in both aspects\n"
          ]
        }
      ],
      "source": [
        "import pyspark.sql.functions as functionss\n",
        "merged_df.groupBy(\"Class\").agg(functionss.max(\"ABV\")).show()\n",
        "merged_df.groupBy(\"Class\").agg(functionss.avg(\"ABV\")).show()\n",
        "print(\"0 is the highest in both aspects\")"
      ]
    },
    {
      "cell_type": "markdown",
      "id": "d78d886a",
      "metadata": {
        "id": "d78d886a"
      },
      "source": [
        "3. which column has the highset correlation with Class column?"
      ]
    },
    {
      "cell_type": "code",
      "execution_count": 26,
      "id": "21443217",
      "metadata": {
        "colab": {
          "base_uri": "https://localhost:8080/"
        },
        "id": "21443217",
        "outputId": "d47dc4ac-c7fb-4ce2-c33e-daf91f141fef"
      },
      "outputs": [
        {
          "output_type": "stream",
          "name": "stdout",
          "text": [
            "['ABV', 'malic_acid', 'ash', 'alcalinity_of_ash', 'magnesium', 'total_phenols', 'flavanoids', 'nonflavanoid_phenols', 'proanthocyanins', 'color_intensity', 'hue', 'od280/od315_of_diluted_wines', 'proline', 'magnesium_stand', 'col_intense', 'Class']\n",
            "the highest in column alcalinity_of_ashval is :0.5178591098214516\n",
            "the lowest in column flavanoidsval is :-0.8474975401417593\n"
          ]
        }
      ],
      "source": [
        "names=merged_df.schema.names\n",
        "print(names)\n",
        "m1=-1\n",
        "m2=float('inf')\n",
        "m1_col=\"\"\n",
        "m2_col=\"\"\n",
        "for c in names:\n",
        "    if c ==\"Class\":\n",
        "        continue\n",
        "    new_v=merged_df.stat.corr(c,\"Class\")\n",
        "    if new_v <=m2:\n",
        "        m2=new_v\n",
        "        m2_col=c\n",
        "    if new_v >=m1:\n",
        "        m1=new_v\n",
        "        m1_col=c\n",
        "print(\"the highest in column \" +m1_col +\"val is :\"+str(m1))\n",
        "print(\"the lowest in column \" +m2_col +\"val is :\"+str(m2))"
      ]
    },
    {
      "cell_type": "markdown",
      "id": "9e765fe4",
      "metadata": {
        "id": "9e765fe4"
      },
      "source": [
        "# Train an ML model to predict the class (Bonus)"
      ]
    },
    {
      "cell_type": "code",
      "source": [
        "print(len(merged_df.columns))"
      ],
      "metadata": {
        "colab": {
          "base_uri": "https://localhost:8080/"
        },
        "id": "L7Vyak3nmRP2",
        "outputId": "f2646acf-5910-4881-84db-3748418bf8f5"
      },
      "id": "L7Vyak3nmRP2",
      "execution_count": 32,
      "outputs": [
        {
          "output_type": "stream",
          "name": "stdout",
          "text": [
            "16\n"
          ]
        }
      ]
    },
    {
      "cell_type": "markdown",
      "id": "f6a0b037",
      "metadata": {
        "id": "f6a0b037"
      },
      "source": [
        "1. create a column for the featers\n",
        "2. split your data to train and test (70%,30%)\n",
        "3. train Random Forest model to predict the column \"Class\"\n",
        "4. print your test results (using metric accuracy)"
      ]
    },
    {
      "cell_type": "code",
      "execution_count": 36,
      "id": "6893c8ea",
      "metadata": {
        "colab": {
          "base_uri": "https://localhost:8080/"
        },
        "id": "6893c8ea",
        "outputId": "183ac829-6c31-43bd-9203-fc3847005649"
      },
      "outputs": [
        {
          "output_type": "stream",
          "name": "stdout",
          "text": [
            "Test Accuracy: 98.08%\n"
          ]
        }
      ],
      "source": [
        "from pyspark.sql import SparkSession\n",
        "from pyspark.ml.feature import VectorAssembler\n",
        "from pyspark.ml.classification import RandomForestClassifier\n",
        "from pyspark.ml.evaluation import MulticlassClassificationEvaluator\n",
        "from sklearn.datasets import load_wine\n",
        "\n",
        "data = merged_df\n",
        "\n",
        "\n",
        "# Split the data into train and test sets\n",
        "train_data, test_data = data.randomSplit([0.7, 0.3], seed=42)\n",
        "\n",
        "# Create a vector assembler to combine the features into a single vector column\n",
        "assembler = VectorAssembler(inputCols=[\"ABV\", \"malic_acid\", \"ash\", \"alcalinity_of_ash\", \"magnesium\", \"total_phenols\", \"flavanoids\", \"nonflavanoid_phenols\", \"proanthocyanins\", \"color_intensity\", \"hue\", \"od280/od315_of_diluted_wines\", \"proline\", \"magnesium_stand\", \"col_intense\"], outputCol=\"features_vector\")\n",
        "\n",
        "# Transform the train and test data using the vector assembler\n",
        "train_data = assembler.transform(train_data)\n",
        "test_data = assembler.transform(test_data)\n",
        "\n",
        "# Train a Random Forest classifier\n",
        "rf = RandomForestClassifier(labelCol=\"Class\", featuresCol=\"features_vector\", seed=42)\n",
        "model = rf.fit(train_data)\n",
        "\n",
        "# Make predictions on the test data\n",
        "predictions = model.transform(test_data)\n",
        "\n",
        "# Evaluate the accuracy of the model\n",
        "evaluator = MulticlassClassificationEvaluator(labelCol=\"Class\", predictionCol=\"prediction\", metricName=\"accuracy\")\n",
        "accuracy = evaluator.evaluate(predictions)\n",
        "\n",
        "print(\"Test Accuracy: {:.2f}%\".format(accuracy * 100))\n",
        "\n"
      ]
    }
  ],
  "metadata": {
    "kernelspec": {
      "display_name": "Python 3 (ipykernel)",
      "language": "python",
      "name": "python3"
    },
    "language_info": {
      "codemirror_mode": {
        "name": "ipython",
        "version": 3
      },
      "file_extension": ".py",
      "mimetype": "text/x-python",
      "name": "python",
      "nbconvert_exporter": "python",
      "pygments_lexer": "ipython3",
      "version": "3.10.9"
    },
    "colab": {
      "provenance": []
    }
  },
  "nbformat": 4,
  "nbformat_minor": 5
}